{
 "cells": [
  {
   "cell_type": "code",
   "execution_count": 1,
   "metadata": {},
   "outputs": [],
   "source": [
    "import numpy as np"
   ]
  },
  {
   "cell_type": "code",
   "execution_count": null,
   "metadata": {},
   "outputs": [],
   "source": []
  },
  {
   "cell_type": "code",
   "execution_count": null,
   "metadata": {},
   "outputs": [],
   "source": []
  },
  {
   "cell_type": "code",
   "execution_count": null,
   "metadata": {},
   "outputs": [],
   "source": []
  },
  {
   "cell_type": "code",
   "execution_count": 31,
   "metadata": {},
   "outputs": [],
   "source": [
    "import tensorflow \n",
    "from tensorflow import keras"
   ]
  },
  {
   "cell_type": "code",
   "execution_count": 32,
   "metadata": {},
   "outputs": [],
   "source": [
    "from keras.preprocessing.image import ImageDataGenerator"
   ]
  },
  {
   "cell_type": "code",
   "execution_count": 45,
   "metadata": {},
   "outputs": [],
   "source": [
    "from keras.layers import Input, Conv2D, Dense, GlobalAveragePooling2D, Flatten, Dropout"
   ]
  },
  {
   "cell_type": "code",
   "execution_count": 46,
   "metadata": {},
   "outputs": [],
   "source": [
    "from keras.models import Model\n"
   ]
  },
  {
   "cell_type": "code",
   "execution_count": 47,
   "metadata": {},
   "outputs": [],
   "source": [
    "from keras.applications.mobilenet import MobileNet, preprocess_input\n"
   ]
  },
  {
   "cell_type": "code",
   "execution_count": 48,
   "metadata": {},
   "outputs": [],
   "source": [
    "train_data=r'C:\\Users\\jithi\\OneDrive\\LitSur\\dogs-vs-cats\\train'\n",
    "test_data=r'C:\\Users\\jithi\\OneDrive\\LitSur\\dogs-vs-cats\\test'\n",
    "valid_data=r'C:\\Users\\jithi\\OneDrive\\LitSur\\dogs-vs-cats\\valid'"
   ]
  },
  {
   "cell_type": "code",
   "execution_count": 49,
   "metadata": {},
   "outputs": [],
   "source": [
    "train_samples=500\n",
    "valid_samples=100\n",
    "test_samples=50"
   ]
  },
  {
   "cell_type": "code",
   "execution_count": 50,
   "metadata": {},
   "outputs": [],
   "source": [
    "train_datagen=ImageDataGenerator(preprocessing_function=preprocess_input, rotation_range=20, width_shift_range=.2, height_shift_range=.2, zoom_range=.2)"
   ]
  },
  {
   "cell_type": "code",
   "execution_count": 51,
   "metadata": {},
   "outputs": [],
   "source": [
    "valid_datagen=ImageDataGenerator(preprocessing_function=preprocess_input)"
   ]
  },
  {
   "cell_type": "code",
   "execution_count": 52,
   "metadata": {},
   "outputs": [
    {
     "name": "stdout",
     "output_type": "stream",
     "text": [
      "Found 1000 images belonging to 2 classes.\n"
     ]
    }
   ],
   "source": [
    "train_generator=train_datagen.flow_from_directory(train_data, target_size=(224, 224), batch_size=32, shuffle=True, seed=12345, class_mode='categorical')"
   ]
  },
  {
   "cell_type": "code",
   "execution_count": 53,
   "metadata": {},
   "outputs": [
    {
     "name": "stdout",
     "output_type": "stream",
     "text": [
      "Found 200 images belonging to 2 classes.\n"
     ]
    }
   ],
   "source": [
    "valid_generator=valid_datagen.flow_from_directory(valid_data, target_size=(224, 224), batch_size=32, shuffle=False, class_mode='categorical')"
   ]
  },
  {
   "cell_type": "code",
   "execution_count": 54,
   "metadata": {},
   "outputs": [],
   "source": [
    "base_model=MobileNet(include_top=False, input_shape=(224, 224, 3))"
   ]
  },
  {
   "cell_type": "code",
   "execution_count": 57,
   "metadata": {},
   "outputs": [],
   "source": [
    "for layer in base_model.layers[:]:\n",
    "    layer.trainable=False\n",
    "input=Input(shape=(224, 224, 3))\n",
    "layer1=base_model(input)\n",
    "layer2=GlobalAveragePooling2D()(layer1)\n",
    "layer3=Dense(64, activation='relu')(layer2)\n",
    "layer4 = Dropout(0.5)(layer3)\n",
    "predictions=Dense(2, activation='softmax')(layer4)\n",
    "model=Model(input, predictions)\n",
    "\n",
    "\n",
    "    "
   ]
  },
  {
   "cell_type": "code",
   "execution_count": 65,
   "metadata": {},
   "outputs": [],
   "source": [
    "BATCH_SIZE=32\n",
    "TRAIN_SAMPLES=500\n",
    "import math"
   ]
  },
  {
   "cell_type": "code",
   "execution_count": 66,
   "metadata": {},
   "outputs": [],
   "source": [
    "model.compile(loss='categorical_crossentropy',\n",
    " optimizer=  tf.optimizers.Adam(lr=0.001),\n",
    " metrics=['acc'])\n"
   ]
  },
  {
   "cell_type": "code",
   "execution_count": 67,
   "metadata": {},
   "outputs": [],
   "source": [
    "num_steps = math.ceil(float(TRAIN_SAMPLES)/BATCH_SIZE) "
   ]
  },
  {
   "cell_type": "code",
   "execution_count": 68,
   "metadata": {},
   "outputs": [
    {
     "name": "stdout",
     "output_type": "stream",
     "text": [
      "WARNING:tensorflow:From <ipython-input-68-42d8eca36e6a>:5: Model.fit_generator (from tensorflow.python.keras.engine.training) is deprecated and will be removed in a future version.\n",
      "Instructions for updating:\n",
      "Please use Model.fit, which supports generators.\n",
      "Epoch 1/10\n",
      "16/16 [==============================] - ETA: 0s - loss: 0.4798 - acc: 0.7848WARNING:tensorflow:Your input ran out of data; interrupting training. Make sure that your dataset or generator can generate at least `steps_per_epoch * epochs` batches (in this case, 16 batches). You may need to use the repeat() function when building your dataset.\n",
      "16/16 [==============================] - 35s 2s/step - loss: 0.4798 - acc: 0.7848 - val_loss: 0.0722 - val_acc: 0.9850\n",
      "Epoch 2/10\n",
      "16/16 [==============================] - 31s 2s/step - loss: 0.1579 - acc: 0.9355\n",
      "Epoch 3/10\n",
      "16/16 [==============================] - 26s 2s/step - loss: 0.1416 - acc: 0.9453\n",
      "Epoch 4/10\n",
      "16/16 [==============================] - 25s 2s/step - loss: 0.1369 - acc: 0.9473\n",
      "Epoch 5/10\n",
      "16/16 [==============================] - 26s 2s/step - loss: 0.0947 - acc: 0.9570\n",
      "Epoch 6/10\n",
      "16/16 [==============================] - 27s 2s/step - loss: 0.0816 - acc: 0.9672\n",
      "Epoch 7/10\n",
      "16/16 [==============================] - 26s 2s/step - loss: 0.1176 - acc: 0.9570\n",
      "Epoch 8/10\n",
      "16/16 [==============================] - 25s 2s/step - loss: 0.0889 - acc: 0.9570\n",
      "Epoch 9/10\n",
      "16/16 [==============================] - 23s 1s/step - loss: 0.0961 - acc: 0.9629\n",
      "Epoch 10/10\n",
      "16/16 [==============================] - 20s 1s/step - loss: 0.0902 - acc: 0.9668\n"
     ]
    },
    {
     "data": {
      "text/plain": [
       "<tensorflow.python.keras.callbacks.History at 0x22bb0fc9d48>"
      ]
     },
     "execution_count": 68,
     "metadata": {},
     "output_type": "execute_result"
    }
   ],
   "source": [
    "model.fit_generator(train_generator,\n",
    " steps_per_epoch = num_steps,\n",
    " epochs=10,\n",
    " validation_data = valid_generator,\n",
    " validation_steps = num_steps)\n"
   ]
  },
  {
   "cell_type": "code",
   "execution_count": 70,
   "metadata": {},
   "outputs": [],
   "source": [
    "model.save(r'C:/Users/jithi/Desktop/mobnet.h5')"
   ]
  },
  {
   "cell_type": "code",
   "execution_count": 75,
   "metadata": {},
   "outputs": [],
   "source": [
    "from keras.models import load_model\n",
    "model = load_model(r'C:/Users/jithi/Desktop/mobnet.h5')\n",
    "from keras.preprocessing import image"
   ]
  },
  {
   "cell_type": "code",
   "execution_count": 81,
   "metadata": {},
   "outputs": [],
   "source": [
    "img_path=r'C:/Users/jithi/Desktop/cat.212.jpg'"
   ]
  },
  {
   "cell_type": "code",
   "execution_count": 82,
   "metadata": {},
   "outputs": [
    {
     "name": "stdout",
     "output_type": "stream",
     "text": [
      "[[9.9998593e-01 1.4067075e-05]]\n",
      "{'cat': 0, 'dog': 1}\n"
     ]
    }
   ],
   "source": [
    "img = image.load_img(img_path, target_size=(224,224))\n",
    "img_array = image.img_to_array(img)\n",
    "expanded_img_array = np.expand_dims(img_array, axis=0)\n",
    "preprocessed_img = preprocess_input(expanded_img_array) # Preprocess the image\n",
    "prediction = model.predict(preprocessed_img)\n",
    "print(prediction)\n",
    "print(valid_generator.class_indices)"
   ]
  },
  {
   "cell_type": "code",
   "execution_count": null,
   "metadata": {},
   "outputs": [],
   "source": []
  },
  {
   "cell_type": "code",
   "execution_count": null,
   "metadata": {},
   "outputs": [],
   "source": []
  }
 ],
 "metadata": {
  "kernelspec": {
   "display_name": "Python 3",
   "language": "python",
   "name": "python3"
  },
  "language_info": {
   "codemirror_mode": {
    "name": "ipython",
    "version": 3
   },
   "file_extension": ".py",
   "mimetype": "text/x-python",
   "name": "python",
   "nbconvert_exporter": "python",
   "pygments_lexer": "ipython3",
   "version": "3.7.6"
  }
 },
 "nbformat": 4,
 "nbformat_minor": 4
}
