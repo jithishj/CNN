{
 "cells": [
  {
   "cell_type": "code",
   "execution_count": 1,
   "metadata": {},
   "outputs": [
    {
     "name": "stdout",
     "output_type": "stream",
     "text": [
      "Downloading data from https://storage.googleapis.com/tensorflow/keras-applications/vgg16/vgg16_weights_tf_dim_ordering_tf_kernels_notop.h5\n",
      "58892288/58889256 [==============================] - 6s 0us/step\n"
     ]
    }
   ],
   "source": [
    "from keras.applications import VGG16\n",
    "conv_base = VGG16(weights='imagenet',\n",
    "                  include_top=False,\n",
    "                  input_shape=(150, 150, 3))"
   ]
  },
  {
   "cell_type": "code",
   "execution_count": 2,
   "metadata": {},
   "outputs": [
    {
     "name": "stdout",
     "output_type": "stream",
     "text": [
      "Model: \"vgg16\"\n",
      "_________________________________________________________________\n",
      "Layer (type)                 Output Shape              Param #   \n",
      "=================================================================\n",
      "input_1 (InputLayer)         [(None, 150, 150, 3)]     0         \n",
      "_________________________________________________________________\n",
      "block1_conv1 (Conv2D)        (None, 150, 150, 64)      1792      \n",
      "_________________________________________________________________\n",
      "block1_conv2 (Conv2D)        (None, 150, 150, 64)      36928     \n",
      "_________________________________________________________________\n",
      "block1_pool (MaxPooling2D)   (None, 75, 75, 64)        0         \n",
      "_________________________________________________________________\n",
      "block2_conv1 (Conv2D)        (None, 75, 75, 128)       73856     \n",
      "_________________________________________________________________\n",
      "block2_conv2 (Conv2D)        (None, 75, 75, 128)       147584    \n",
      "_________________________________________________________________\n",
      "block2_pool (MaxPooling2D)   (None, 37, 37, 128)       0         \n",
      "_________________________________________________________________\n",
      "block3_conv1 (Conv2D)        (None, 37, 37, 256)       295168    \n",
      "_________________________________________________________________\n",
      "block3_conv2 (Conv2D)        (None, 37, 37, 256)       590080    \n",
      "_________________________________________________________________\n",
      "block3_conv3 (Conv2D)        (None, 37, 37, 256)       590080    \n",
      "_________________________________________________________________\n",
      "block3_pool (MaxPooling2D)   (None, 18, 18, 256)       0         \n",
      "_________________________________________________________________\n",
      "block4_conv1 (Conv2D)        (None, 18, 18, 512)       1180160   \n",
      "_________________________________________________________________\n",
      "block4_conv2 (Conv2D)        (None, 18, 18, 512)       2359808   \n",
      "_________________________________________________________________\n",
      "block4_conv3 (Conv2D)        (None, 18, 18, 512)       2359808   \n",
      "_________________________________________________________________\n",
      "block4_pool (MaxPooling2D)   (None, 9, 9, 512)         0         \n",
      "_________________________________________________________________\n",
      "block5_conv1 (Conv2D)        (None, 9, 9, 512)         2359808   \n",
      "_________________________________________________________________\n",
      "block5_conv2 (Conv2D)        (None, 9, 9, 512)         2359808   \n",
      "_________________________________________________________________\n",
      "block5_conv3 (Conv2D)        (None, 9, 9, 512)         2359808   \n",
      "_________________________________________________________________\n",
      "block5_pool (MaxPooling2D)   (None, 4, 4, 512)         0         \n",
      "=================================================================\n",
      "Total params: 14,714,688\n",
      "Trainable params: 14,714,688\n",
      "Non-trainable params: 0\n",
      "_________________________________________________________________\n"
     ]
    }
   ],
   "source": [
    "conv_base.summary()"
   ]
  },
  {
   "cell_type": "code",
   "execution_count": 3,
   "metadata": {},
   "outputs": [],
   "source": [
    "import os\n",
    "import numpy as np\n",
    "from keras.preprocessing.image import ImageDataGenerator"
   ]
  },
  {
   "cell_type": "code",
   "execution_count": 5,
   "metadata": {},
   "outputs": [],
   "source": [
    "train_dir='C:/Users/jithi/Desktop/dogs-vs-cats/train'\n",
    "valid_dir='C:/Users/jithi/Desktop/dogs-vs-cats/valid'\n",
    "test_dir='C:/Users/jithi/Desktop/dogs-vs-cats/test'"
   ]
  },
  {
   "cell_type": "code",
   "execution_count": 6,
   "metadata": {},
   "outputs": [],
   "source": [
    "datagen = ImageDataGenerator(rescale=1./255)\n",
    "batch_size = 20"
   ]
  },
  {
   "cell_type": "code",
   "execution_count": 7,
   "metadata": {},
   "outputs": [],
   "source": [
    "def extract_features(directory, sample_count):\n",
    "    features = np.zeros(shape=(sample_count, 4, 4, 512))\n",
    "    labels = np.zeros(shape=(sample_count))\n",
    "    generator = datagen.flow_from_directory(\n",
    "    directory,\n",
    "    target_size=(150, 150),\n",
    "    batch_size=batch_size,\n",
    "    class_mode='binary')\n",
    "    i=0\n",
    "    for inputs_batch, labels_batch in generator:\n",
    "        features_batch = conv_base.predict(inputs_batch)\n",
    "        features[i * batch_size : (i + 1) * batch_size] = features_batch\n",
    "        labels[i * batch_size : (i + 1) * batch_size] = labels_batch\n",
    "        i += 1\n",
    "        if i * batch_size >= sample_count:\n",
    "            break\n",
    "    return features, labels"
   ]
  },
  {
   "cell_type": "code",
   "execution_count": 11,
   "metadata": {},
   "outputs": [
    {
     "name": "stdout",
     "output_type": "stream",
     "text": [
      "Found 1000 images belonging to 2 classes.\n",
      "Found 200 images belonging to 2 classes.\n",
      "Found 100 images belonging to 2 classes.\n"
     ]
    }
   ],
   "source": [
    "train_features, train_labels = extract_features(train_dir, 1000)\n",
    "validation_features, validation_labels = extract_features(valid_dir, 200)\n",
    "test_features, test_labels = extract_features(test_dir, 100)"
   ]
  },
  {
   "cell_type": "code",
   "execution_count": 12,
   "metadata": {},
   "outputs": [],
   "source": [
    "train_features = np.reshape(train_features, (1000, 4*4* 512))\n",
    "validation_features = np.reshape(validation_features, (200, 4*4* 512))\n",
    "test_features = np.reshape(test_features, (100, 4*4* 512))"
   ]
  },
  {
   "cell_type": "code",
   "execution_count": 14,
   "metadata": {},
   "outputs": [
    {
     "data": {
      "text/plain": [
       "(1000, 8192)"
      ]
     },
     "execution_count": 14,
     "metadata": {},
     "output_type": "execute_result"
    }
   ],
   "source": [
    "train_features.shape"
   ]
  },
  {
   "cell_type": "code",
   "execution_count": 17,
   "metadata": {},
   "outputs": [
    {
     "data": {
      "text/plain": [
       "array([[0., 0.]])"
      ]
     },
     "execution_count": 17,
     "metadata": {},
     "output_type": "execute_result"
    }
   ],
   "source": [
    "np.zeros(1,2))"
   ]
  },
  {
   "cell_type": "code",
   "execution_count": 18,
   "metadata": {},
   "outputs": [
    {
     "name": "stdout",
     "output_type": "stream",
     "text": [
      "Epoch 1/30\n",
      "50/50 [==============================] - 2s 33ms/step - loss: 0.6591 - acc: 0.6000 - val_loss: 0.5274 - val_acc: 0.7950\n",
      "Epoch 2/30\n",
      "50/50 [==============================] - 2s 31ms/step - loss: 0.5263 - acc: 0.7180 - val_loss: 0.4370 - val_acc: 0.8550\n",
      "Epoch 3/30\n",
      "50/50 [==============================] - 2s 31ms/step - loss: 0.4285 - acc: 0.8070 - val_loss: 0.3783 - val_acc: 0.8800\n",
      "Epoch 4/30\n",
      "50/50 [==============================] - 2s 31ms/step - loss: 0.3785 - acc: 0.8440 - val_loss: 0.3439 - val_acc: 0.8900\n",
      "Epoch 5/30\n",
      "50/50 [==============================] - 2s 31ms/step - loss: 0.3529 - acc: 0.8590 - val_loss: 0.3167 - val_acc: 0.9000\n",
      "Epoch 6/30\n",
      "50/50 [==============================] - 2s 30ms/step - loss: 0.3195 - acc: 0.8750 - val_loss: 0.3029 - val_acc: 0.9000\n",
      "Epoch 7/30\n",
      "50/50 [==============================] - 2s 32ms/step - loss: 0.2970 - acc: 0.8830 - val_loss: 0.2878 - val_acc: 0.9000\n",
      "Epoch 8/30\n",
      "50/50 [==============================] - 2s 35ms/step - loss: 0.2815 - acc: 0.8900 - val_loss: 0.2745 - val_acc: 0.9000\n",
      "Epoch 9/30\n",
      "50/50 [==============================] - 2s 36ms/step - loss: 0.2660 - acc: 0.9100 - val_loss: 0.2650 - val_acc: 0.8950\n",
      "Epoch 10/30\n",
      "50/50 [==============================] - 1s 30ms/step - loss: 0.2503 - acc: 0.9050 - val_loss: 0.2589 - val_acc: 0.8950\n",
      "Epoch 11/30\n",
      "50/50 [==============================] - 1s 29ms/step - loss: 0.2372 - acc: 0.9080 - val_loss: 0.2602 - val_acc: 0.9000\n",
      "Epoch 12/30\n",
      "50/50 [==============================] - 2s 32ms/step - loss: 0.2285 - acc: 0.9220 - val_loss: 0.2463 - val_acc: 0.9050\n",
      "Epoch 13/30\n",
      "50/50 [==============================] - 2s 34ms/step - loss: 0.2172 - acc: 0.9200 - val_loss: 0.2409 - val_acc: 0.9050\n",
      "Epoch 14/30\n",
      "50/50 [==============================] - 1s 30ms/step - loss: 0.2004 - acc: 0.9320 - val_loss: 0.2346 - val_acc: 0.9050\n",
      "Epoch 15/30\n",
      "50/50 [==============================] - 2s 31ms/step - loss: 0.1973 - acc: 0.9400 - val_loss: 0.2416 - val_acc: 0.9000\n",
      "Epoch 16/30\n",
      "50/50 [==============================] - 1s 30ms/step - loss: 0.1839 - acc: 0.9350 - val_loss: 0.2386 - val_acc: 0.9000\n",
      "Epoch 17/30\n",
      "50/50 [==============================] - 2s 31ms/step - loss: 0.1750 - acc: 0.9350 - val_loss: 0.2281 - val_acc: 0.9050\n",
      "Epoch 18/30\n",
      "50/50 [==============================] - 1s 30ms/step - loss: 0.1651 - acc: 0.9450 - val_loss: 0.2378 - val_acc: 0.9000\n",
      "Epoch 19/30\n",
      "50/50 [==============================] - 2s 32ms/step - loss: 0.1634 - acc: 0.9440 - val_loss: 0.2259 - val_acc: 0.9000\n",
      "Epoch 20/30\n",
      "50/50 [==============================] - 2s 35ms/step - loss: 0.1582 - acc: 0.9490 - val_loss: 0.2353 - val_acc: 0.8950\n",
      "Epoch 21/30\n",
      "50/50 [==============================] - 2s 32ms/step - loss: 0.1493 - acc: 0.9530 - val_loss: 0.2188 - val_acc: 0.9100\n",
      "Epoch 22/30\n",
      "50/50 [==============================] - 2s 33ms/step - loss: 0.1463 - acc: 0.9530 - val_loss: 0.2220 - val_acc: 0.9050\n",
      "Epoch 23/30\n",
      "50/50 [==============================] - 2s 31ms/step - loss: 0.1299 - acc: 0.9670 - val_loss: 0.2197 - val_acc: 0.9000\n",
      "Epoch 24/30\n",
      "50/50 [==============================] - 2s 30ms/step - loss: 0.1308 - acc: 0.9650 - val_loss: 0.2135 - val_acc: 0.9100\n",
      "Epoch 25/30\n",
      "50/50 [==============================] - 2s 31ms/step - loss: 0.1219 - acc: 0.9660 - val_loss: 0.2216 - val_acc: 0.9000\n",
      "Epoch 26/30\n",
      "50/50 [==============================] - 2s 32ms/step - loss: 0.1125 - acc: 0.9740 - val_loss: 0.2175 - val_acc: 0.9000\n",
      "Epoch 27/30\n",
      "50/50 [==============================] - 2s 31ms/step - loss: 0.1145 - acc: 0.9660 - val_loss: 0.2120 - val_acc: 0.9200\n",
      "Epoch 28/30\n",
      "50/50 [==============================] - 2s 32ms/step - loss: 0.1209 - acc: 0.9630 - val_loss: 0.2142 - val_acc: 0.9100\n",
      "Epoch 29/30\n",
      "50/50 [==============================] - 2s 32ms/step - loss: 0.1058 - acc: 0.9690 - val_loss: 0.2113 - val_acc: 0.9200\n",
      "Epoch 30/30\n",
      "50/50 [==============================] - 2s 35ms/step - loss: 0.0968 - acc: 0.9790 - val_loss: 0.2193 - val_acc: 0.9050\n"
     ]
    }
   ],
   "source": [
    "from keras import models\n",
    "from keras import layers\n",
    "from keras import optimizers\n",
    "model = models.Sequential()\n",
    "model.add(layers.Dense(256, activation='relu', input_dim=4 * 4 * 512))\n",
    "model.add(layers.Dropout(0.5))\n",
    "model.add(layers.Dense(1, activation='sigmoid'))\n",
    "model.compile(optimizer=optimizers.RMSprop(lr=2e-5),\n",
    "loss='binary_crossentropy',\n",
    "metrics=['acc'])\n",
    "history = model.fit(train_features, train_labels,\n",
    "epochs=30,\n",
    "batch_size=20,\n",
    "validation_data=(validation_features, validation_labels))\n"
   ]
  },
  {
   "cell_type": "code",
   "execution_count": 21,
   "metadata": {},
   "outputs": [
    {
     "data": {
      "image/png": "[encoded data removed]",
      "text/plain": [
       "<Figure size 432x288 with 1 Axes>"
      ]
     },
     "metadata": {
      "needs_background": "light"
     },
     "output_type": "display_data"
    },
    {
     "data": {
      "image/png": "[encoded data removed]",
      "text/plain": [
       "<Figure size 432x288 with 1 Axes>"
      ]
     },
     "metadata": {
      "needs_background": "light"
     },
     "output_type": "display_data"
    }
   ],
   "source": [
    "import matplotlib.pyplot as plt\n",
    "acc = history.history['acc']\n",
    "val_acc = history.history['val_acc']\n",
    "loss = history.history['loss']\n",
    "val_loss = history.history['val_loss']\n",
    "epochs = range(1, len(acc) + 1)\n",
    "plt.plot(epochs, acc, 'bo', label='Training acc')\n",
    "plt.plot(epochs, val_acc, 'b', label='Validation acc')\n",
    "plt.title('Training and validation accuracy')\n",
    "plt.legend()\n",
    "plt.figure()\n",
    "plt.plot(epochs, loss, 'bo', label='Training loss')\n",
    "plt.plot(epochs, val_loss, 'b', label='Validation loss')\n",
    "plt.title('Training and validation loss')\n",
    "plt.legend()\n",
    "plt.show()"
   ]
  },
  {
   "cell_type": "code",
   "execution_count": null,
   "metadata": {},
   "outputs": [],
   "source": []
  }
 ],
 "metadata": {
  "kernelspec": {
   "display_name": "Python 3",
   "language": "python",
   "name": "python3"
  },
  "language_info": {
   "codemirror_mode": {
    "name": "ipython",
    "version": 3
   },
   "file_extension": ".py",
   "mimetype": "text/x-python",
   "name": "python",
   "nbconvert_exporter": "python",
   "pygments_lexer": "ipython3",
   "version": "3.7.6"
  }
 },
 "nbformat": 4,
 "nbformat_minor": 4
}
